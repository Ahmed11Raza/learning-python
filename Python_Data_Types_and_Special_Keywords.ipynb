{
  "nbformat": 4,
  "nbformat_minor": 0,
  "metadata": {
    "colab": {
      "provenance": [],
      "authorship_tag": "ABX9TyOtAP+g/XMx671LN5xJpHnV",
      "include_colab_link": true
    },
    "kernelspec": {
      "name": "python3",
      "display_name": "Python 3"
    },
    "language_info": {
      "name": "python"
    }
  },
  "cells": [
    {
      "cell_type": "markdown",
      "metadata": {
        "id": "view-in-github",
        "colab_type": "text"
      },
      "source": [
        "<a href=\"https://colab.research.google.com/github/Ahmed11Raza/learning-python/blob/main/Python_Data_Types_and_Special_Keywords.ipynb\" target=\"_parent\"><img src=\"https://colab.research.google.com/assets/colab-badge.svg\" alt=\"Open In Colab\"/></a>"
      ]
    },
    {
      "cell_type": "markdown",
      "source": [
        "# Python Data Types and Special Keywords:"
      ],
      "metadata": {
        "id": "v_JTDf2hAgUO"
      }
    },
    {
      "cell_type": "markdown",
      "source": [
        "# 1. Introduction to Data Types\n",
        "\n",
        "# Data types define the type of data a variable can store. Python has built-in types categorized as:\n",
        "\n",
        "**Basic Types: int, float, str, bool, NoneType**\n",
        "\n",
        "**Collection Types: list, tuple, dict, set**"
      ],
      "metadata": {
        "id": "61_m2dpJApbF"
      }
    },
    {
      "cell_type": "markdown",
      "source": [
        "# 2. Basic Data Types\n",
        "Integer (int)\n",
        "Represents whole numbers."
      ],
      "metadata": {
        "id": "8Eo5g88SAyUF"
      }
    },
    {
      "cell_type": "code",
      "source": [
        "a = 10\n",
        "print(a, type(a))"
      ],
      "metadata": {
        "colab": {
          "base_uri": "https://localhost:8080/"
        },
        "id": "dgiCHRB0BBBL",
        "outputId": "8273b306-f613-4bdc-edc9-b244aa6703e1"
      },
      "execution_count": 1,
      "outputs": [
        {
          "output_type": "stream",
          "name": "stdout",
          "text": [
            "10 <class 'int'>\n"
          ]
        }
      ]
    },
    {
      "cell_type": "markdown",
      "source": [
        "# Float (float)\n",
        "# Represents decimal numbers.\n",
        "\n",
        "\n"
      ],
      "metadata": {
        "id": "O6BAEehXBHSH"
      }
    },
    {
      "cell_type": "code",
      "source": [
        "b = 3.14\n",
        "print(b, type(b))"
      ],
      "metadata": {
        "colab": {
          "base_uri": "https://localhost:8080/"
        },
        "id": "WoLKvXupBJTE",
        "outputId": "7c69aeef-473b-4bd7-dba3-5275606167d1"
      },
      "execution_count": 2,
      "outputs": [
        {
          "output_type": "stream",
          "name": "stdout",
          "text": [
            "3.14 <class 'float'>\n"
          ]
        }
      ]
    },
    {
      "cell_type": "markdown",
      "source": [
        "# String (str)\n",
        "# Represents text enclosed in quotes."
      ],
      "metadata": {
        "id": "bqaQiMUMBbiF"
      }
    },
    {
      "cell_type": "code",
      "source": [
        "c = \"Hello, Python!\"\n",
        "print(c, type(c))"
      ],
      "metadata": {
        "colab": {
          "base_uri": "https://localhost:8080/"
        },
        "id": "Y2aV-bQDBgd8",
        "outputId": "d365c0bb-ac55-4d81-b85c-ee9940956f9e"
      },
      "execution_count": 3,
      "outputs": [
        {
          "output_type": "stream",
          "name": "stdout",
          "text": [
            "Hello, Python! <class 'str'>\n"
          ]
        }
      ]
    },
    {
      "cell_type": "markdown",
      "source": [
        "# Boolean (bool)\n",
        "Represents True or False."
      ],
      "metadata": {
        "id": "SG0173FfBlRO"
      }
    },
    {
      "cell_type": "code",
      "source": [
        "d = True\n",
        "print(d, type(d))"
      ],
      "metadata": {
        "colab": {
          "base_uri": "https://localhost:8080/"
        },
        "id": "z2xkwOg6BpuS",
        "outputId": "2a8a79ac-af58-467c-906e-9a15d08564fd"
      },
      "execution_count": 4,
      "outputs": [
        {
          "output_type": "stream",
          "name": "stdout",
          "text": [
            "True <class 'bool'>\n"
          ]
        }
      ]
    },
    {
      "cell_type": "markdown",
      "source": [
        "# NoneType (None)\n",
        "Represents absence of value."
      ],
      "metadata": {
        "id": "fY7FrPWxBtyU"
      }
    },
    {
      "cell_type": "code",
      "source": [
        "e = None\n",
        "print(e, type(e))"
      ],
      "metadata": {
        "colab": {
          "base_uri": "https://localhost:8080/"
        },
        "id": "lQ9fqr9iBv0I",
        "outputId": "47e11acf-19f3-4ccd-fce5-eb05aa8d048f"
      },
      "execution_count": 5,
      "outputs": [
        {
          "output_type": "stream",
          "name": "stdout",
          "text": [
            "None <class 'NoneType'>\n"
          ]
        }
      ]
    },
    {
      "cell_type": "markdown",
      "source": [
        "# 3. Collection Data Types\n",
        "# List (list)\n",
        "Mutable, ordered collection."
      ],
      "metadata": {
        "id": "44bVKpSNLTUG"
      }
    },
    {
      "cell_type": "code",
      "source": [
        "fruits = [\"apple\", \"banana\", \"cherry\"]\n",
        "print(fruits, type(fruits))"
      ],
      "metadata": {
        "colab": {
          "base_uri": "https://localhost:8080/"
        },
        "id": "IbZ3LBdNLcwG",
        "outputId": "7be3d2d9-3196-4220-91ec-e3cde6fd8af0"
      },
      "execution_count": 1,
      "outputs": [
        {
          "output_type": "stream",
          "name": "stdout",
          "text": [
            "['apple', 'banana', 'cherry'] <class 'list'>\n"
          ]
        }
      ]
    },
    {
      "cell_type": "markdown",
      "source": [],
      "metadata": {
        "id": "Fl6T2ORNBQdt"
      }
    },
    {
      "cell_type": "markdown",
      "source": [
        "# Tuple (tuple)\n",
        "Immutable, ordered collection."
      ],
      "metadata": {
        "id": "Kfa4ZQW1LgbH"
      }
    },
    {
      "cell_type": "code",
      "source": [
        "coordinates = (4, 5)\n",
        "print(coordinates, type(coordinates))"
      ],
      "metadata": {
        "colab": {
          "base_uri": "https://localhost:8080/"
        },
        "id": "BPbeSk8NLni8",
        "outputId": "f3383f7b-c5bc-43db-ebfd-67a4163e4949"
      },
      "execution_count": 2,
      "outputs": [
        {
          "output_type": "stream",
          "name": "stdout",
          "text": [
            "(4, 5) <class 'tuple'>\n"
          ]
        }
      ]
    },
    {
      "cell_type": "markdown",
      "source": [
        "# Dictionary (dict)\n",
        "Key-value pairs."
      ],
      "metadata": {
        "id": "bD0SVhHiLr60"
      }
    },
    {
      "cell_type": "code",
      "source": [
        "student = {\"name\": \"Alice\", \"age\": 20}\n",
        "print(student, type(student))"
      ],
      "metadata": {
        "colab": {
          "base_uri": "https://localhost:8080/"
        },
        "id": "e-93pCLhLwYt",
        "outputId": "82bbc107-6716-45e9-dd68-011feb4bf26b"
      },
      "execution_count": 3,
      "outputs": [
        {
          "output_type": "stream",
          "name": "stdout",
          "text": [
            "{'name': 'Alice', 'age': 20} <class 'dict'>\n"
          ]
        }
      ]
    },
    {
      "cell_type": "markdown",
      "source": [
        "# Set (set)\n",
        "Unordered, unique elements."
      ],
      "metadata": {
        "id": "KY7_0xDvL9gW"
      }
    },
    {
      "cell_type": "code",
      "source": [
        "unique_numbers = {1, 2, 3, 2}\n",
        "print(unique_numbers, type(unique_numbers))"
      ],
      "metadata": {
        "colab": {
          "base_uri": "https://localhost:8080/"
        },
        "id": "cJvK55p5Lwvt",
        "outputId": "02722505-19aa-4235-e7dc-2c5aaf1d675d"
      },
      "execution_count": 4,
      "outputs": [
        {
          "output_type": "stream",
          "name": "stdout",
          "text": [
            "{1, 2, 3} <class 'set'>\n"
          ]
        }
      ]
    },
    {
      "cell_type": "markdown",
      "source": [
        "# 4. Type Conversion\n",
        "Convert between types using functions like int(), str(), etc."
      ],
      "metadata": {
        "id": "taVwaSQhMElz"
      }
    },
    {
      "cell_type": "code",
      "source": [
        "num_str = \"100\"\n",
        "num_int = int(num_str)\n",
        "print(num_int, type(num_int))"
      ],
      "metadata": {
        "colab": {
          "base_uri": "https://localhost:8080/"
        },
        "id": "dL2Qblz8MBFN",
        "outputId": "d6cb14bd-09c1-4a51-b8dd-0b07dfbf3694"
      },
      "execution_count": 5,
      "outputs": [
        {
          "output_type": "stream",
          "name": "stdout",
          "text": [
            "100 <class 'int'>\n"
          ]
        }
      ]
    },
    {
      "cell_type": "markdown",
      "source": [
        "# 5. Special Keywords\n",
        "Python has reserved keywords with special meanings.\n",
        "\n",
        "**List All Keywords**"
      ],
      "metadata": {
        "id": "NY1SiqWJMMPP"
      }
    },
    {
      "cell_type": "code",
      "source": [
        "import keyword\n",
        "print(keyword.kwlist)"
      ],
      "metadata": {
        "colab": {
          "base_uri": "https://localhost:8080/"
        },
        "id": "7ZIkLTOhMI2F",
        "outputId": "2b45d83a-b02d-494c-dd6a-f8a356db1f28"
      },
      "execution_count": 6,
      "outputs": [
        {
          "output_type": "stream",
          "name": "stdout",
          "text": [
            "['False', 'None', 'True', 'and', 'as', 'assert', 'async', 'await', 'break', 'class', 'continue', 'def', 'del', 'elif', 'else', 'except', 'finally', 'for', 'from', 'global', 'if', 'import', 'in', 'is', 'lambda', 'nonlocal', 'not', 'or', 'pass', 'raise', 'return', 'try', 'while', 'with', 'yield']\n"
          ]
        }
      ]
    },
    {
      "cell_type": "markdown",
      "source": [
        "# Common Keywords\n",
        "# None: Represents \"no value\"."
      ],
      "metadata": {
        "id": "-nAOjc0IMVFk"
      }
    },
    {
      "cell_type": "code",
      "source": [
        "x = None\n",
        "print(x is None)"
      ],
      "metadata": {
        "colab": {
          "base_uri": "https://localhost:8080/"
        },
        "id": "E0VKoBP2MSFr",
        "outputId": "6722a3a7-15c5-4112-b1de-f4fb9efa1032"
      },
      "execution_count": 7,
      "outputs": [
        {
          "output_type": "stream",
          "name": "stdout",
          "text": [
            "True\n"
          ]
        }
      ]
    },
    {
      "cell_type": "markdown",
      "source": [
        "# is vs ==\n",
        "# is checks identity, == checks value."
      ],
      "metadata": {
        "id": "FiJGUNOIMc65"
      }
    },
    {
      "cell_type": "code",
      "source": [
        "list1 = [1, 2]\n",
        "list2 = [1, 2]\n",
        "print(list1 == list2)\n",
        "print(list1 is list2)"
      ],
      "metadata": {
        "colab": {
          "base_uri": "https://localhost:8080/"
        },
        "id": "JtyoPKxpMaOz",
        "outputId": "636b998d-a417-4411-ec1b-9b02af57e11f"
      },
      "execution_count": 8,
      "outputs": [
        {
          "output_type": "stream",
          "name": "stdout",
          "text": [
            "True\n",
            "False\n"
          ]
        }
      ]
    },
    {
      "cell_type": "markdown",
      "source": [
        "# in: Membership test."
      ],
      "metadata": {
        "id": "ivwCwUR9MkQq"
      }
    },
    {
      "cell_type": "code",
      "source": [
        "print(\"apple\" in [\"apple\", \"banana\"])"
      ],
      "metadata": {
        "colab": {
          "base_uri": "https://localhost:8080/"
        },
        "id": "vnSxNwZCMjoX",
        "outputId": "ed3ad840-84bd-43f1-d362-8484540e6ef3"
      },
      "execution_count": 9,
      "outputs": [
        {
          "output_type": "stream",
          "name": "stdout",
          "text": [
            "True\n"
          ]
        }
      ]
    },
    {
      "cell_type": "markdown",
      "source": [
        "# and/or: Logical operators."
      ],
      "metadata": {
        "id": "RjOBwt7EMsbF"
      }
    },
    {
      "cell_type": "code",
      "source": [
        "print(True and False)\n",
        "print(True or False)"
      ],
      "metadata": {
        "colab": {
          "base_uri": "https://localhost:8080/"
        },
        "id": "La_A8uTbMvXJ",
        "outputId": "4c64b911-72ff-435d-c88e-0bc43ec24233"
      },
      "execution_count": 10,
      "outputs": [
        {
          "output_type": "stream",
          "name": "stdout",
          "text": [
            "False\n",
            "True\n"
          ]
        }
      ]
    },
    {
      "cell_type": "markdown",
      "source": [
        "# not: Logical negation."
      ],
      "metadata": {
        "id": "FmXNvZfPMz5t"
      }
    },
    {
      "cell_type": "code",
      "source": [
        "print(not True)"
      ],
      "metadata": {
        "colab": {
          "base_uri": "https://localhost:8080/"
        },
        "id": "DZE6_uqvMoAH",
        "outputId": "b527dd29-a49e-4674-cb66-62e0ac77d8ab"
      },
      "execution_count": 11,
      "outputs": [
        {
          "output_type": "stream",
          "name": "stdout",
          "text": [
            "False\n"
          ]
        }
      ]
    }
  ]
}