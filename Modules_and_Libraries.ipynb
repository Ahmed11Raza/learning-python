{
  "nbformat": 4,
  "nbformat_minor": 0,
  "metadata": {
    "colab": {
      "provenance": [],
      "authorship_tag": "ABX9TyPQvJbTqV9gpkFCO5CSNZp2",
      "include_colab_link": true
    },
    "kernelspec": {
      "name": "python3",
      "display_name": "Python 3"
    },
    "language_info": {
      "name": "python"
    }
  },
  "cells": [
    {
      "cell_type": "markdown",
      "metadata": {
        "id": "view-in-github",
        "colab_type": "text"
      },
      "source": [
        "<a href=\"https://colab.research.google.com/github/Ahmed11Raza/learning-python/blob/main/Modules_and_Libraries.ipynb\" target=\"_parent\"><img src=\"https://colab.research.google.com/assets/colab-badge.svg\" alt=\"Open In Colab\"/></a>"
      ]
    },
    {
      "cell_type": "markdown",
      "source": [
        "# Lesson Plan: Understanding Modules and Libraries\n",
        "**Objective**\n",
        "\n",
        "Students will:\n",
        "\n",
        "1-Understand what modules and libraries are.\n",
        "2-Learn to use built-in Python modules like math, random, and datetime.\n",
        "3-Grasp the usage of import and from-import statements."
      ],
      "metadata": {
        "id": "6Or3k8I5ybOQ"
      }
    },
    {
      "cell_type": "markdown",
      "source": [
        "# Theoretical Concepts\n",
        "**1. What are Modules and Libraries?**\n",
        "\n",
        "Module: A file containing Python code (functions, variables, classes, etc.) that can be reused in other Python programs.\n",
        "Library: A collection of modules designed to perform specific tasks.\n",
        "\n",
        "**2. Why Use Modules and Libraries?**\n",
        "\n",
        "Avoid rewriting code by using pre-written functions.\n",
        "Improve code readability and maintainability.\n",
        "Increase productivity.\n",
        "\n",
        "**3. Python Standard Library**\n",
        "\n",
        "Python comes with a rich **Standard Library**  that includes pre-installed modules like:\n",
        "math for mathematical operations.\n",
        "random for generating random numbers.\n",
        "datetime for handling dates and times.\n",
        "\n",
        "**4. Import Statements**\n",
        "\n",
        "Basic import Statement: Imports the entire module"
      ],
      "metadata": {
        "id": "hOwIeDYHyq80"
      }
    },
    {
      "cell_type": "code",
      "execution_count": 1,
      "metadata": {
        "colab": {
          "base_uri": "https://localhost:8080/"
        },
        "id": "LrQu2BwtyPlf",
        "outputId": "8849e6d7-8f25-4271-cf8b-2d9e18ba656f"
      },
      "outputs": [
        {
          "output_type": "stream",
          "name": "stdout",
          "text": [
            "4.0\n"
          ]
        }
      ],
      "source": [
        "#Basic import Statement: Imports the entire module\n",
        "import math\n",
        "print(math.sqrt(16))  # Access functions using module_name.function_name\n"
      ]
    },
    {
      "cell_type": "code",
      "source": [
        "# from-import Statement: Imports specific functions or variables.\n",
        "from math import sqrt\n",
        "print(sqrt(16))  # Directly use the function without module name\n"
      ],
      "metadata": {
        "colab": {
          "base_uri": "https://localhost:8080/"
        },
        "id": "i9JfoJOzz0dL",
        "outputId": "49ba09f6-28fd-4a41-b127-5847a80c167e"
      },
      "execution_count": 2,
      "outputs": [
        {
          "output_type": "stream",
          "name": "stdout",
          "text": [
            "4.0\n"
          ]
        }
      ]
    },
    {
      "cell_type": "markdown",
      "source": [
        "**Code Examples with Practical Scenarios**"
      ],
      "metadata": {
        "id": "x9pyRPMv0CDe"
      }
    },
    {
      "cell_type": "markdown",
      "source": [
        "# Code Examples\n",
        "**Example 1**: Using math Module\n",
        "\n",
        "**Problem**: Calculate the area of a circle with radius r."
      ],
      "metadata": {
        "id": "g2g0BReG0FfM"
      }
    },
    {
      "cell_type": "code",
      "source": [
        "# Importing the math module\n",
        "import math\n",
        "\n",
        "# Define the radius\n",
        "radius = 5\n",
        "\n",
        "# Calculate the area using math.pi\n",
        "area = math.pi * math.pow(radius, 2)\n",
        "\n",
        "# Print the result\n",
        "print(f\"The area of the circle with radius {radius} is: {area:.2f}\")\n"
      ],
      "metadata": {
        "colab": {
          "base_uri": "https://localhost:8080/"
        },
        "id": "7w_r04eo0Nou",
        "outputId": "9a3f5f72-4aa2-45dd-8a8a-f6b94e32654e"
      },
      "execution_count": 3,
      "outputs": [
        {
          "output_type": "stream",
          "name": "stdout",
          "text": [
            "The area of the circle with radius 5 is: 78.54\n"
          ]
        }
      ]
    },
    {
      "cell_type": "markdown",
      "source": [
        "**Example 2**: Using random Module\n",
        "\n",
        "**Problem**: Simulate a dice roll."
      ],
      "metadata": {
        "id": "lpAsA-K_0SiY"
      }
    },
    {
      "cell_type": "code",
      "source": [
        "# Importing random module\n",
        "import random\n",
        "\n",
        "# Simulate dice roll\n",
        "dice_roll = random.randint(1, 6)\n",
        "\n",
        "# Print the result\n",
        "print(f\"You rolled a {dice_roll}!\")\n"
      ],
      "metadata": {
        "colab": {
          "base_uri": "https://localhost:8080/"
        },
        "id": "yDZYQffF0XwK",
        "outputId": "067c384a-430f-40be-eca6-9085445cd024"
      },
      "execution_count": 4,
      "outputs": [
        {
          "output_type": "stream",
          "name": "stdout",
          "text": [
            "You rolled a 1!\n"
          ]
        }
      ]
    },
    {
      "cell_type": "markdown",
      "source": [
        "**Example 3**: Using datetime Module\n",
        "\n",
        "**Problem**: Get the current date and time, and calculate a future date."
      ],
      "metadata": {
        "id": "ZbOevvC-0cth"
      }
    },
    {
      "cell_type": "code",
      "source": [
        "# Importing datetime module\n",
        "import datetime\n",
        "\n",
        "# Get current date and time\n",
        "now = datetime.datetime.now()\n",
        "\n",
        "# Print current date and time\n",
        "print(f\"Current date and time: {now}\")\n",
        "\n",
        "# Add 7 days to the current date\n",
        "future_date = now + datetime.timedelta(days=7)\n",
        "\n",
        "# Print the future date\n",
        "print(f\"The date after 7 days will be: {future_date.date()}\")\n"
      ],
      "metadata": {
        "colab": {
          "base_uri": "https://localhost:8080/"
        },
        "id": "jNXpn-6h0YNj",
        "outputId": "615a1141-cca0-4653-86b8-68ce1b182210"
      },
      "execution_count": 5,
      "outputs": [
        {
          "output_type": "stream",
          "name": "stdout",
          "text": [
            "Current date and time: 2025-01-23 15:40:10.006164\n",
            "The date after 7 days will be: 2025-01-30\n"
          ]
        }
      ]
    },
    {
      "cell_type": "markdown",
      "source": [
        "**Example 4**: Using from-import\n",
        "\n",
        "**Problem**: Simplify code with selective imports."
      ],
      "metadata": {
        "id": "F4E0TfrV0l8H"
      }
    },
    {
      "cell_type": "code",
      "source": [
        "# Importing specific functions from math\n",
        "from math import sqrt, pow\n",
        "\n",
        "# Calculate square root and power\n",
        "num = 16\n",
        "print(f\"Square root of {num} is: {sqrt(num)}\")\n",
        "print(f\"{num} raised to the power 3 is: {pow(num, 3)}\")\n"
      ],
      "metadata": {
        "colab": {
          "base_uri": "https://localhost:8080/"
        },
        "id": "0ry9Egbj0h4a",
        "outputId": "d43a0c1f-cdbd-4be3-fa8d-8450e8ac906f"
      },
      "execution_count": 6,
      "outputs": [
        {
          "output_type": "stream",
          "name": "stdout",
          "text": [
            "Square root of 16 is: 4.0\n",
            "16 raised to the power 3 is: 4096.0\n"
          ]
        }
      ]
    },
    {
      "cell_type": "markdown",
      "source": [
        "# Practice Exercises\n",
        "\n",
        "**Math Practice:**\n",
        " Use the math module to calculate the hypotenuse of a right triangle with sides 3 and 4.\n",
        "\n",
        "**Random Practice:**\n",
        " Create a program that randomly selects a fruit from a list of fruits.\n",
        "\n",
        "**Datetime Practice:**\n",
        "Write a program that calculates the number of days left until your next birthday."
      ],
      "metadata": {
        "id": "E354cEhS0w_A"
      }
    },
    {
      "cell_type": "markdown",
      "source": [
        "# Homework\n",
        "\n",
        "1- Research and use another module from the Python Standard Library (e.g., os, sys, or statistics).\n",
        "\n",
        "2- Write a small program using at least two different modules"
      ],
      "metadata": {
        "id": "m3f2c0JI1FnN"
      }
    }
  ]
}