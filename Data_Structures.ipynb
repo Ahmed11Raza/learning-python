{
  "nbformat": 4,
  "nbformat_minor": 0,
  "metadata": {
    "colab": {
      "provenance": [],
      "authorship_tag": "ABX9TyPxmsswkvYhmmzL8AH3TbJ5",
      "include_colab_link": true
    },
    "kernelspec": {
      "name": "python3",
      "display_name": "Python 3"
    },
    "language_info": {
      "name": "python"
    }
  },
  "cells": [
    {
      "cell_type": "markdown",
      "metadata": {
        "id": "view-in-github",
        "colab_type": "text"
      },
      "source": [
        "<a href=\"https://colab.research.google.com/github/Ahmed11Raza/learning-python/blob/main/Data_Structures.ipynb\" target=\"_parent\"><img src=\"https://colab.research.google.com/assets/colab-badge.svg\" alt=\"Open In Colab\"/></a>"
      ]
    },
    {
      "cell_type": "markdown",
      "source": [
        "1. **Lists**\n",
        "\n",
        "A list is a collection of items in a particular order.\n",
        "Lists are mutable, meaning you can change their content after creation.\n",
        "Lists can hold mixed data types: integers, strings, floats, or even other lists.\n",
        "Common operations include adding, removing, and accessing elements.\n",
        "\n",
        "Key Methods:\n",
        "\n",
        "**append(), extend(), insert(), remove(), pop(), index(), count(), sort(), reverse()**"
      ],
      "metadata": {
        "id": "g2IQiGDjsFPT"
      }
    },
    {
      "cell_type": "code",
      "execution_count": 1,
      "metadata": {
        "colab": {
          "base_uri": "https://localhost:8080/"
        },
        "id": "2YPKhB_cqphB",
        "outputId": "b8362f67-14e2-4273-ce96-a2689d66660d"
      },
      "outputs": [
        {
          "output_type": "stream",
          "name": "stdout",
          "text": [
            "First fruit: apple\n",
            "After append: ['apple', 'banana', 'cherry', 'orange']\n",
            "After insert: ['apple', 'mango', 'banana', 'cherry', 'orange']\n",
            "After remove: ['apple', 'mango', 'cherry', 'orange']\n",
            "Sorted list: ['apple', 'cherry', 'mango', 'orange']\n"
          ]
        }
      ],
      "source": [
        "# Creating a list\n",
        "fruits = [\"apple\", \"banana\", \"cherry\"]\n",
        "\n",
        "# Accessing elements\n",
        "print(\"First fruit:\", fruits[0])  # Output: apple\n",
        "\n",
        "# Adding elements\n",
        "fruits.append(\"orange\")  # Add orange to the end\n",
        "print(\"After append:\", fruits)\n",
        "\n",
        "fruits.insert(1, \"mango\")  # Insert mango at index 1\n",
        "print(\"After insert:\", fruits)\n",
        "\n",
        "# Removing elements\n",
        "fruits.remove(\"banana\")  # Remove the first occurrence of banana\n",
        "print(\"After remove:\", fruits)\n",
        "\n",
        "# Other operations\n",
        "fruits.sort()  # Sort the list alphabetically\n",
        "print(\"Sorted list:\", fruits)\n"
      ]
    },
    {
      "cell_type": "markdown",
      "source": [
        "2. **Tuples**\n",
        "\n",
        "\n",
        "A tuple is an immutable sequence of elements.\n",
        "Tuples are often used to store related items together, like coordinates.\n",
        "Once created, the elements of a tuple cannot be changed.\n",
        "\n",
        "Key Features:\n",
        "\n",
        "**Faster than lists for read-only operations,\n",
        "Common methods: count(), index()**\n"
      ],
      "metadata": {
        "id": "0EagH_T5s0nU"
      }
    },
    {
      "cell_type": "code",
      "source": [
        "# Creating a tuple\n",
        "coordinates = (10, 20, 30)\n",
        "\n",
        "# Accessing elements\n",
        "print(\"First coordinate:\", coordinates[0])\n",
        "\n",
        "# Tuple immutability\n",
        "# coordinates[0] = 40  # This will raise a TypeError\n",
        "\n",
        "# Using tuple methods\n",
        "print(\"Count of 20:\", coordinates.count(20))\n",
        "print(\"Index of 30:\", coordinates.index(30))\n"
      ],
      "metadata": {
        "colab": {
          "base_uri": "https://localhost:8080/"
        },
        "id": "cCjFn5-ss6F4",
        "outputId": "18df9ebf-858f-4da8-b303-b6b2b9eed4ce"
      },
      "execution_count": 2,
      "outputs": [
        {
          "output_type": "stream",
          "name": "stdout",
          "text": [
            "First coordinate: 10\n",
            "Count of 20: 1\n",
            "Index of 30: 2\n"
          ]
        }
      ]
    },
    {
      "cell_type": "markdown",
      "source": [
        "3. **Dictionaries**\n",
        "\n",
        "A dictionary stores data in key-value pairs.\n",
        "Keys must be unique and immutable, but values can be mutable.\n",
        "It's ideal for scenarios where quick lookups by key are required.\n",
        "\n",
        "Key Methods:\n",
        "\n",
        "**keys(), values(), items(), get(), update(), pop()**"
      ],
      "metadata": {
        "id": "wh8_XK8jtCoe"
      }
    },
    {
      "cell_type": "code",
      "source": [
        "# Creating a dictionary\n",
        "person = {\"name\": \"John\", \"age\": 30, \"city\": \"New York\"}\n",
        "\n",
        "# Accessing values\n",
        "print(\"Name:\", person[\"name\"])\n",
        "\n",
        "# Adding or updating a key-value pair\n",
        "person[\"profession\"] = \"Engineer\"\n",
        "print(\"Updated dictionary:\", person)\n",
        "\n",
        "# Removing a key-value pair\n",
        "age = person.pop(\"age\")  # Removes and returns the value\n",
        "print(\"After pop:\", person)\n",
        "\n",
        "# Iterating through keys and values\n",
        "for key, value in person.items():\n",
        "    print(f\"{key}: {value}\")\n"
      ],
      "metadata": {
        "colab": {
          "base_uri": "https://localhost:8080/"
        },
        "id": "745rlcnStI4p",
        "outputId": "21dcb841-68a0-46ed-99cc-998174602507"
      },
      "execution_count": 3,
      "outputs": [
        {
          "output_type": "stream",
          "name": "stdout",
          "text": [
            "Name: John\n",
            "Updated dictionary: {'name': 'John', 'age': 30, 'city': 'New York', 'profession': 'Engineer'}\n",
            "After pop: {'name': 'John', 'city': 'New York', 'profession': 'Engineer'}\n",
            "name: John\n",
            "city: New York\n",
            "profession: Engineer\n"
          ]
        }
      ]
    },
    {
      "cell_type": "markdown",
      "source": [
        "4. **Sets**\n",
        "\n",
        "A set is an unordered collection of unique items.\n",
        "Sets are useful for membership testing and eliminating duplicates.\n",
        "They support mathematical operations like union, intersection, and difference.\n",
        "\n",
        "Key Methods:\n",
        "\n",
        "**add(), remove(), union(), intersection(), difference()**"
      ],
      "metadata": {
        "id": "f8ebrTwgtRjs"
      }
    },
    {
      "cell_type": "code",
      "source": [
        "# Creating a set\n",
        "numbers = {1, 2, 3, 4}\n",
        "\n",
        "# Adding and removing elements\n",
        "numbers.add(5)\n",
        "print(\"After add:\", numbers)\n",
        "\n",
        "numbers.remove(3)\n",
        "print(\"After remove:\", numbers)\n",
        "\n",
        "# Set operations\n",
        "set_a = {1, 2, 3}\n",
        "set_b = {3, 4, 5}\n",
        "\n",
        "print(\"Union:\", set_a.union(set_b))\n",
        "print(\"Intersection:\", set_a.intersection(set_b))\n",
        "print(\"Difference:\", set_a.difference(set_b))\n"
      ],
      "metadata": {
        "colab": {
          "base_uri": "https://localhost:8080/"
        },
        "id": "2Gya52q9t7ox",
        "outputId": "819eb51a-da44-4ed8-bf4b-2a925ca32741"
      },
      "execution_count": 4,
      "outputs": [
        {
          "output_type": "stream",
          "name": "stdout",
          "text": [
            "After add: {1, 2, 3, 4, 5}\n",
            "After remove: {1, 2, 4, 5}\n",
            "Union: {1, 2, 3, 4, 5}\n",
            "Intersection: {3}\n",
            "Difference: {1, 2}\n"
          ]
        }
      ]
    },
    {
      "cell_type": "markdown",
      "source": [
        "**5. Strings**\n",
        "\n",
        "\n",
        "Strings are sequences of characters.\n",
        "Strings in Python are immutable.\n",
        "They support indexing, slicing, and a variety of methods for manipulation.\n",
        "\n",
        "Key Methods:\n",
        "\n",
        "**lower(), upper(), split(), join(), replace(), find(), strip()**"
      ],
      "metadata": {
        "id": "fq39sCSVupdS"
      }
    },
    {
      "cell_type": "code",
      "source": [
        "# Creating a string\n",
        "message = \"Hello, World!\"\n",
        "\n",
        "# String methods\n",
        "print(\"Lowercase:\", message.lower())\n",
        "print(\"Uppercase:\", message.upper())\n",
        "\n",
        "# Splitting and joining\n",
        "words = message.split(\", \")\n",
        "print(\"Split into words:\", words)\n",
        "\n",
        "joined_message = \" - \".join(words)\n",
        "print(\"Joined message:\", joined_message)\n",
        "\n",
        "# Finding and replacing\n",
        "print(\"Index of 'World':\", message.find(\"World\"))\n",
        "print(\"Replaced string:\", message.replace(\"World\", \"Python\"))\n"
      ],
      "metadata": {
        "colab": {
          "base_uri": "https://localhost:8080/"
        },
        "id": "SJ-Ikn4IvIS_",
        "outputId": "2a3a8353-2d49-4914-aca0-a476d5cfbc32"
      },
      "execution_count": 5,
      "outputs": [
        {
          "output_type": "stream",
          "name": "stdout",
          "text": [
            "Lowercase: hello, world!\n",
            "Uppercase: HELLO, WORLD!\n",
            "Split into words: ['Hello', 'World!']\n",
            "Joined message: Hello - World!\n",
            "Index of 'World': 7\n",
            "Replaced string: Hello, Python!\n"
          ]
        }
      ]
    },
    {
      "cell_type": "markdown",
      "source": [
        "# Practice Problems for Lists\n",
        "\n",
        "**Reverse a List:**\n",
        "\n",
        "Write a function that takes a list as input and returns the list in reverse order.\n",
        "\n",
        "Find the Largest Number:\n",
        "\n",
        "Given a list of integers, find the largest number in the list without using the max() function.\n",
        "\n",
        "Remove Duplicates:\n",
        "\n",
        "Write a program to remove duplicate elements from a list and retain only unique items.\n",
        "\n",
        "Merge Two Lists:\n",
        "\n",
        "Merge two sorted lists into a single sorted list without using any built-in functions.\n",
        "\n",
        "Find Even Numbers:\n",
        "\n",
        "From a given list of integers, create a new list containing only the even numbers.\n"
      ],
      "metadata": {
        "id": "vaS98KAbwFB_"
      }
    },
    {
      "cell_type": "markdown",
      "source": [
        "Practice Problems for Tuples\n",
        "Swap Elements:\n",
        "\n",
        "Given a tuple (a, b), swap the elements to return (b, a) without using extra variables.\n",
        "\n",
        "Tuple to Dictionary:\n",
        "\n",
        "Convert a list of tuples (e.g., [(\"a\", 1), (\"b\", 2)]) into a dictionary.\n",
        "\n",
        "Count Occurrences:\n",
        "\n",
        "Write a program to count how many times an element appears in a tuple.\n",
        "\n",
        "Concatenate Tuples:\n",
        "\n",
        "Write a function to concatenate two tuples and sort the resulting tuple.\n",
        "\n",
        "Access Nested Tuples:\n",
        "\n",
        "Given a nested tuple, e.g., ((1, 2), (3, 4), (5, 6)), access the second element of the third tuple."
      ],
      "metadata": {
        "id": "_xxNKyWkwghy"
      }
    },
    {
      "cell_type": "markdown",
      "source": [
        "# Example Question Set\n",
        "\n",
        "Here’s an example to share with students as a complete exercise:\n",
        "\n",
        "List Problem:\n",
        "\n",
        "Create a function that takes a list of integers and returns a list of integers squared (e.g., [1, 2, 3] → [1, 4, 9]).\n",
        "\n",
        "Tuple Problem:\n",
        "\n",
        " Write a program to unpack a tuple into individual variables and print them.\n",
        "\n",
        "Dictionary Problem:\n",
        "\n",
        " Write a function that accepts a dictionary and a list of keys, and returns a new dictionary containing only those key-value pairs.\n",
        "\n",
        "Set Problem:\n",
        "\n",
        " Write a program to find the difference between two sets and return the result as a list.\n",
        "\n",
        "String Problem:\n",
        "\n",
        " Write a function to capitalize the first letter of each word in a string (similar to str.title())."
      ],
      "metadata": {
        "id": "S_isUe-XzS2v"
      }
    }
  ]
}