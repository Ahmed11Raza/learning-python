{
  "nbformat": 4,
  "nbformat_minor": 0,
  "metadata": {
    "colab": {
      "provenance": [],
      "authorship_tag": "ABX9TyMSvH56sZZPoCeM8k7rt93m",
      "include_colab_link": true
    },
    "kernelspec": {
      "name": "python3",
      "display_name": "Python 3"
    },
    "language_info": {
      "name": "python"
    }
  },
  "cells": [
    {
      "cell_type": "markdown",
      "metadata": {
        "id": "view-in-github",
        "colab_type": "text"
      },
      "source": [
        "<a href=\"https://colab.research.google.com/github/Ahmed11Raza/learning-python/blob/main/Error_and_Exception_Handling.ipynb\" target=\"_parent\"><img src=\"https://colab.research.google.com/assets/colab-badge.svg\" alt=\"Open In Colab\"/></a>"
      ]
    },
    {
      "cell_type": "markdown",
      "source": [
        "# 1. Errors vs. Exceptions\n",
        "\n",
        "**Error**: A problem in the syntax or logic of a program that prevents it from running. Example: SyntaxError, IndentationError.\n",
        "\n",
        "\n",
        "**Exception**: An error that occurs during execution. It can be handled to prevent the program from crashing. Example: ZeroDivisionError, FileNotFoundError.\n",
        "\n"
      ],
      "metadata": {
        "id": "h5ckmf__4bXM"
      }
    },
    {
      "cell_type": "markdown",
      "source": [
        "# 2. Try and Except Blocks\n",
        "\n",
        "The try block lets you test a block of code for exceptions, and the except block lets you handle them.\n",
        "\n",
        "**Syntax**"
      ],
      "metadata": {
        "id": "l_b4q6Y04tDb"
      }
    },
    {
      "cell_type": "code",
      "source": [
        "def risky_code():\n",
        "    # Example: Division by zero\n",
        "    result = 10 / 0\n",
        "    return result\n",
        "\n",
        "def handle_exception():\n",
        "    print(\"An exception occurred!\")\n",
        "\n",
        "try:\n",
        "    # Code that might raise an exception\n",
        "    risky_code()\n",
        "except ZeroDivisionError: # Specify the exception type\n",
        "    # Code to execute if the exception occurs\n",
        "    handle_exception()\n",
        "except Exception as e: # Handle other potential exceptions\n",
        "    print(f\"A different exception occurred: {e}\")"
      ],
      "metadata": {
        "colab": {
          "base_uri": "https://localhost:8080/"
        },
        "id": "U8uSE0Uh43NM",
        "outputId": "cd220ca8-7372-4ee0-d1a7-8fa758314872"
      },
      "execution_count": 5,
      "outputs": [
        {
          "output_type": "stream",
          "name": "stdout",
          "text": [
            "An exception occurred!\n"
          ]
        }
      ]
    },
    {
      "cell_type": "markdown",
      "source": [
        "# 3. Else Statement\n",
        "The else block executes if no exception occurs in the try block."
      ],
      "metadata": {
        "id": "fvyCWywh5RGE"
      }
    },
    {
      "cell_type": "code",
      "source": [
        "try:\n",
        "    result = 10 / 2\n",
        "except ZeroDivisionError:\n",
        "    print(\"Division by zero error!\")\n",
        "else:\n",
        "    print(\"Division successful. Result:\", result)\n"
      ],
      "metadata": {
        "colab": {
          "base_uri": "https://localhost:8080/"
        },
        "id": "_LMMTqLO5U7e",
        "outputId": "1fc4f139-ba23-498f-b2e0-614e21f4bde8"
      },
      "execution_count": 6,
      "outputs": [
        {
          "output_type": "stream",
          "name": "stdout",
          "text": [
            "Division successful. Result: 5.0\n"
          ]
        }
      ]
    },
    {
      "cell_type": "markdown",
      "source": [
        "# 4. Finally Statement\n",
        "The finally block executes no matter what, whether an exception is raised or not. It is often used for cleanup actions (e.g., closing a file or releasing resources)."
      ],
      "metadata": {
        "id": "ErAiwQ9a5jCe"
      }
    },
    {
      "cell_type": "code",
      "source": [
        "try:\n",
        "    file = open(\"example.txt\", \"r\")\n",
        "    content = file.read()\n",
        "except FileNotFoundError:\n",
        "    print(\"File not found.\")\n",
        "finally:\n",
        "    print(\"Closing file.\")\n",
        "    # Ensure file is closed properly\n",
        "    file.close() if 'file' in locals() else None\n"
      ],
      "metadata": {
        "colab": {
          "base_uri": "https://localhost:8080/"
        },
        "id": "gd7gwJQF5oAX",
        "outputId": "7f916c41-7576-4e67-ee99-a95e9e3f9a19"
      },
      "execution_count": 7,
      "outputs": [
        {
          "output_type": "stream",
          "name": "stdout",
          "text": [
            "File not found.\n",
            "Closing file.\n"
          ]
        }
      ]
    },
    {
      "cell_type": "markdown",
      "source": [
        "# 5. Raising Exceptions\n",
        "You can raise exceptions deliberately using the raise keyword."
      ],
      "metadata": {
        "id": "7dhHgxeA5ry7"
      }
    },
    {
      "cell_type": "code",
      "source": [
        "def check_age(age):\n",
        "    if age < 18:\n",
        "        raise ValueError(\"Age must be 18 or older.\")\n",
        "    print(\"Age is valid.\")\n",
        "\n",
        "try:\n",
        "    check_age(15)\n",
        "except ValueError as e:\n",
        "    print(\"Error:\", e)\n"
      ],
      "metadata": {
        "colab": {
          "base_uri": "https://localhost:8080/"
        },
        "id": "jNrqfpxn5o5T",
        "outputId": "07ab8b64-c546-4a7d-db24-ab0c6ca2f0f1"
      },
      "execution_count": 8,
      "outputs": [
        {
          "output_type": "stream",
          "name": "stdout",
          "text": [
            "Error: Age must be 18 or older.\n"
          ]
        }
      ]
    },
    {
      "cell_type": "markdown",
      "source": [
        "**# Complete Example**"
      ],
      "metadata": {
        "id": "ZZDaQw4A507J"
      }
    },
    {
      "cell_type": "code",
      "source": [
        "try:\n",
        "    num = int(input(\"Enter a number: \"))\n",
        "    if num < 0:\n",
        "        raise ValueError(\"Negative numbers are not allowed!\")\n",
        "except ValueError as ve:\n",
        "    print(\"Error:\", ve)\n",
        "else:\n",
        "    print(\"You entered:\", num)\n",
        "finally:\n",
        "    print(\"Execution finished.\")\n"
      ],
      "metadata": {
        "id": "BllkA8bj5wOA"
      },
      "execution_count": null,
      "outputs": []
    },
    {
      "cell_type": "markdown",
      "source": [
        "# Key Takeaways\n",
        "1) try: Test code that might throw an exception.\n",
        "\n",
        "2) except: Handle exceptions gracefully.\n",
        "\n",
        "3) else: Runs only if no exceptions occur.\n",
        "\n",
        "4) finally: Executes regardless of what happens.\n",
        "\n",
        "5) raise: Manually raise exceptions when needed."
      ],
      "metadata": {
        "id": "rqLcEhsD5_14"
      }
    }
  ]
}