{
  "nbformat": 4,
  "nbformat_minor": 0,
  "metadata": {
    "colab": {
      "provenance": [],
      "authorship_tag": "ABX9TyMkUENntWKcHaW+CGPb7bBk",
      "include_colab_link": true
    },
    "kernelspec": {
      "name": "python3",
      "display_name": "Python 3"
    },
    "language_info": {
      "name": "python"
    }
  },
  "cells": [
    {
      "cell_type": "markdown",
      "metadata": {
        "id": "view-in-github",
        "colab_type": "text"
      },
      "source": [
        "<a href=\"https://colab.research.google.com/github/Ahmed11Raza/learning-python/blob/main/python_dataclass.ipynb\" target=\"_parent\"><img src=\"https://colab.research.google.com/assets/colab-badge.svg\" alt=\"Open In Colab\"/></a>"
      ]
    },
    {
      "cell_type": "code",
      "source": [
        "from dataclasses import dataclass\n",
        "from typing import ClassVar\n",
        "\n",
        "@dataclass\n",
        "class American:\n",
        "    national_language: ClassVar[str] = \"English\"\n",
        "    national_food: ClassVar[str] = \"Hamburger\"\n",
        "    normal_body_temperature: ClassVar[float] = 98.6\n",
        "\n",
        "    name: str\n",
        "    age: int\n",
        "    weight: float\n",
        "    liked_food: str\n",
        "\n",
        "    def speaks(self) -> str:\n",
        "        return f\"{self.name} is speaking... {American.national_language}\"\n",
        "\n",
        "    def eats(self) -> str:\n",
        "        return f\"{self.name} is eating {self.liked_food}.\"\n",
        "\n",
        "    @staticmethod\n",
        "    def country_language() -> str:\n",
        "        return American.national_language\n",
        "\n",
        "if __name__ == \"__main__\":\n",
        "    print(American.country_language())\n",
        "\n",
        "    john = American(name=\"John\", age=25, weight=65.0, liked_food=\"Pizza\")\n",
        "\n",
        "    print(john.speaks())\n",
        "    print(john.eats())\n",
        "    print(john)\n",
        "    print(john.name)\n",
        "    print(john.age)\n",
        "    print(john.weight)\n",
        "    print(American.national_language)\n",
        "    print(john.national_language)\n"
      ],
      "metadata": {
        "colab": {
          "base_uri": "https://localhost:8080/"
        },
        "id": "BoQMbKBRz0P9",
        "outputId": "8cca1f9d-ecae-4a5b-85cf-13c947fa5be8"
      },
      "execution_count": 2,
      "outputs": [
        {
          "output_type": "stream",
          "name": "stdout",
          "text": [
            "English\n",
            "John is speaking... English\n",
            "John is eating Pizza.\n",
            "American(name='John', age=25, weight=65.0, liked_food='Pizza')\n",
            "John\n",
            "25\n",
            "65.0\n",
            "English\n",
            "English\n"
          ]
        }
      ]
    }
  ]
}