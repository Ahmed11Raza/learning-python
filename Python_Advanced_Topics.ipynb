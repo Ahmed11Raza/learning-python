{
  "nbformat": 4,
  "nbformat_minor": 0,
  "metadata": {
    "colab": {
      "provenance": [],
      "authorship_tag": "ABX9TyN0H0s6o62dKAY9/lZTG97Z",
      "include_colab_link": true
    },
    "kernelspec": {
      "name": "python3",
      "display_name": "Python 3"
    },
    "language_info": {
      "name": "python"
    }
  },
  "cells": [
    {
      "cell_type": "markdown",
      "metadata": {
        "id": "view-in-github",
        "colab_type": "text"
      },
      "source": [
        "<a href=\"https://colab.research.google.com/github/Ahmed11Raza/learning-python/blob/main/Python_Advanced_Topics.ipynb\" target=\"_parent\"><img src=\"https://colab.research.google.com/assets/colab-badge.svg\" alt=\"Open In Colab\"/></a>"
      ]
    },
    {
      "cell_type": "markdown",
      "source": [
        "# 1. List Comprehensions\n",
        "This is a concise and powerful tool in Python that allows you to create lists quickly by using loops and conditionals.\n",
        "\n",
        "**Syntax:**"
      ],
      "metadata": {
        "id": "o9NsGhmgHtUT"
      }
    },
    {
      "cell_type": "code",
      "execution_count": 1,
      "metadata": {
        "colab": {
          "base_uri": "https://localhost:8080/"
        },
        "id": "WwPGYgRyHmLB",
        "outputId": "db609330-0b16-49e4-ab62-ddb2a5354eaf"
      },
      "outputs": [
        {
          "output_type": "stream",
          "name": "stdout",
          "text": [
            "[1, 4, 9, 16, 25]\n"
          ]
        }
      ],
      "source": [
        "# Using a normal loop:\n",
        "numbers = [1, 2, 3, 4, 5]\n",
        "squared = []\n",
        "for num in numbers:\n",
        "    squared.append(num ** 2)\n",
        "\n",
        "# Using list comprehension:\n",
        "squared = [num ** 2 for num in numbers]\n",
        "print(squared)  # Output: [1, 4, 9, 16, 25]\n"
      ]
    },
    {
      "cell_type": "markdown",
      "source": [
        "# 2. Iterators and Generators\n",
        "**Iterator:** An object that allows you to traverse through a sequence one element at a time.\n",
        "\n",
        "Created using the iter() function.\n",
        "\n",
        "Access elements using the next() function."
      ],
      "metadata": {
        "id": "sHhH0SlIH3mq"
      }
    },
    {
      "cell_type": "code",
      "source": [
        "numbers = [1, 2, 3]\n",
        "iterator = iter(numbers)\n",
        "print(next(iterator))\n",
        "print(next(iterator))\n"
      ],
      "metadata": {
        "colab": {
          "base_uri": "https://localhost:8080/"
        },
        "id": "1CZAQEwDHzFv",
        "outputId": "912cebd1-bcf5-4e50-937c-95fe08a639de"
      },
      "execution_count": 2,
      "outputs": [
        {
          "output_type": "stream",
          "name": "stdout",
          "text": [
            "1\n",
            "2\n"
          ]
        }
      ]
    },
    {
      "cell_type": "markdown",
      "source": [
        "**Generator:** A special type of iterator that generates data lazily (on demand).\n",
        "It is more efficient, especially for large data sets.\n",
        "Uses the yield keyword."
      ],
      "metadata": {
        "id": "sBfggJX0ID2e"
      }
    },
    {
      "cell_type": "code",
      "source": [
        "def generate_numbers():\n",
        "    for i in range(1, 4):\n",
        "        yield i\n",
        "\n",
        "gen = generate_numbers()\n",
        "print(next(gen))\n",
        "print(next(gen))\n"
      ],
      "metadata": {
        "colab": {
          "base_uri": "https://localhost:8080/"
        },
        "id": "iKv1zx7mH_MC",
        "outputId": "1e55380e-7bae-4d67-efaf-8ea0b36b8da7"
      },
      "execution_count": 3,
      "outputs": [
        {
          "output_type": "stream",
          "name": "stdout",
          "text": [
            "1\n",
            "2\n"
          ]
        }
      ]
    },
    {
      "cell_type": "markdown",
      "source": [
        "# 3. Decorators\n",
        "\n",
        "A decorator is a Python feature that allows you to dynamically modify or extend the behavior of a function. It takes a function as input and returns a modified function.\n",
        "\n",
        "**Syntax:**"
      ],
      "metadata": {
        "id": "JTc2jX09IOsu"
      }
    },
    {
      "cell_type": "code",
      "source": [
        "def decorator(func):\n",
        "    def wrapper():\n",
        "        print(\"Before function\")\n",
        "        func()\n",
        "        print(\"After function\")\n",
        "    return wrapper\n",
        "\n",
        "@decorator\n",
        "def say_hello():\n",
        "    print(\"Hello!\")\n",
        "\n",
        "say_hello()\n"
      ],
      "metadata": {
        "colab": {
          "base_uri": "https://localhost:8080/"
        },
        "id": "8LAxZHElILgQ",
        "outputId": "30e7796a-7265-4906-cd16-dac26d1137c0"
      },
      "execution_count": 4,
      "outputs": [
        {
          "output_type": "stream",
          "name": "stdout",
          "text": [
            "Before function\n",
            "Hello!\n",
            "After function\n"
          ]
        }
      ]
    },
    {
      "cell_type": "markdown",
      "source": [
        "# 4. Recursion\n",
        "Recursion is a technique where a function calls itself.\n",
        "\n",
        " It is used to solve complex problems using a divide-and-conquer approach.\n",
        "\n",
        "** Example: Factorial Calculation**"
      ],
      "metadata": {
        "id": "V4BUGgQJIZR7"
      }
    },
    {
      "cell_type": "code",
      "source": [
        "def factorial(n):\n",
        "    if n == 1:  # Base case\n",
        "        return 1\n",
        "    return n * factorial(n - 1)  # Recursive call\n",
        "\n",
        "print(factorial(5))  # Output: 120\n"
      ],
      "metadata": {
        "colab": {
          "base_uri": "https://localhost:8080/"
        },
        "id": "JhFJdyu0IUUb",
        "outputId": "6f0fd475-1891-4902-860d-ea096870e4f3"
      },
      "execution_count": 5,
      "outputs": [
        {
          "output_type": "stream",
          "name": "stdout",
          "text": [
            "120\n"
          ]
        }
      ]
    },
    {
      "cell_type": "markdown",
      "source": [
        "# 5. Python Virtual Environment\n",
        "\n",
        "A virtual environment is an isolated environment where you can manage specific Python and library versions for a project.\n",
        "\n",
        "It helps avoid dependency conflicts."
      ],
      "metadata": {
        "id": "yVQogoFMIs_4"
      }
    },
    {
      "cell_type": "code",
      "source": [
        "#Commands:\n",
        "#1) To Create A Virtual Enviroment\n",
        "!pip python -m venv myenv\n"
      ],
      "metadata": {
        "id": "VyOt6QEtIpn5"
      },
      "execution_count": 6,
      "outputs": []
    },
    {
      "cell_type": "code",
      "source": [
        "#Install a package\n",
        "!pip Install package name"
      ],
      "metadata": {
        "id": "mizKj2l-I3MS"
      },
      "execution_count": null,
      "outputs": []
    }
  ]
}