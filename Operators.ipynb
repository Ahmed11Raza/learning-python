{
  "nbformat": 4,
  "nbformat_minor": 0,
  "metadata": {
    "colab": {
      "provenance": [],
      "authorship_tag": "ABX9TyMQgSxA+jxXI4XjhKowSSZd",
      "include_colab_link": true
    },
    "kernelspec": {
      "name": "python3",
      "display_name": "Python 3"
    },
    "language_info": {
      "name": "python"
    }
  },
  "cells": [
    {
      "cell_type": "markdown",
      "metadata": {
        "id": "view-in-github",
        "colab_type": "text"
      },
      "source": [
        "<a href=\"https://colab.research.google.com/github/Ahmed11Raza/learning-python/blob/main/Operators.ipynb\" target=\"_parent\"><img src=\"https://colab.research.google.com/assets/colab-badge.svg\" alt=\"Open In Colab\"/></a>"
      ]
    },
    {
      "cell_type": "markdown",
      "source": [
        "### Teaching Python Operators with Examples"
      ],
      "metadata": {
        "id": "2twzvkO8ehf6"
      }
    },
    {
      "cell_type": "markdown",
      "source": [
        "# Arithmetic Operators\n"
      ],
      "metadata": {
        "id": "QiHhjuldeqPH"
      }
    },
    {
      "cell_type": "code",
      "source": [
        "print(\"Arithmetic Operators\")\n",
        "a = 10\n",
        "b = 3\n",
        "print(\"Addition:\", a + b)\n",
        "print(\"Subtraction:\", a - b)\n",
        "print(\"Multiplication:\", a * b)\n",
        "print(\"Division:\", a / b)\n",
        "print(\"Floor Division:\", a // b)\n",
        "print(\"Modulus:\", a % b)\n",
        "print(\"Exponentiation:\", a ** b)\n",
        "print(\"\\n\")"
      ],
      "metadata": {
        "colab": {
          "base_uri": "https://localhost:8080/"
        },
        "id": "_wmq4fAfeu8h",
        "outputId": "35cdc679-337e-4a7a-a980-0beece2eea7e"
      },
      "execution_count": 1,
      "outputs": [
        {
          "output_type": "stream",
          "name": "stdout",
          "text": [
            "Arithmetic Operators\n",
            "Addition: 13\n",
            "Subtraction: 7\n",
            "Multiplication: 30\n",
            "Division: 3.3333333333333335\n",
            "Floor Division: 3\n",
            "Modulus: 1\n",
            "Exponentiation: 1000\n",
            "\n",
            "\n"
          ]
        }
      ]
    },
    {
      "cell_type": "markdown",
      "source": [
        "# Assignment Operators"
      ],
      "metadata": {
        "id": "sz5wCiiCe-57"
      }
    },
    {
      "cell_type": "code",
      "source": [
        "print(\"Assignment Operators\")\n",
        "x = 5\n",
        "x += 3  # x = x + 3\n",
        "print(\"x after += 3:\", x)\n",
        "x *= 2  # x = x * 2\n",
        "print(\"x after *= 2:\", x)\n",
        "x -= 4  # x = x - 4\n",
        "print(\"x after -= 4:\", x)\n",
        "print(\"\\n\")"
      ],
      "metadata": {
        "colab": {
          "base_uri": "https://localhost:8080/"
        },
        "id": "e81E9_p-fB0J",
        "outputId": "cbd0f456-77c2-47ea-e0bb-b06f22dd469e"
      },
      "execution_count": 2,
      "outputs": [
        {
          "output_type": "stream",
          "name": "stdout",
          "text": [
            "Assignment Operators\n",
            "x after += 3: 8\n",
            "x after *= 2: 16\n",
            "x after -= 4: 12\n",
            "\n",
            "\n"
          ]
        }
      ]
    },
    {
      "cell_type": "markdown",
      "source": [
        "# Comparison Operators"
      ],
      "metadata": {
        "id": "oKauw-IdfGuQ"
      }
    },
    {
      "cell_type": "code",
      "source": [
        "print(\"Comparison Operators\")\n",
        "x = 10\n",
        "y = 20\n",
        "print(\"x == y:\", x == y)\n",
        "print(\"x != y:\", x != y)\n",
        "print(\"x > y:\", x > y)\n",
        "print(\"x < y:\", x < y)\n",
        "print(\"x >= y:\", x >= y)\n",
        "print(\"x <= y:\", x <= y)\n",
        "print(\"\\n\")"
      ],
      "metadata": {
        "colab": {
          "base_uri": "https://localhost:8080/"
        },
        "id": "rCLb7ZTEfK0y",
        "outputId": "ae7bff4a-c537-49ea-b33b-1c92e7493075"
      },
      "execution_count": 3,
      "outputs": [
        {
          "output_type": "stream",
          "name": "stdout",
          "text": [
            "Comparison Operators\n",
            "x == y: False\n",
            "x != y: True\n",
            "x > y: False\n",
            "x < y: True\n",
            "x >= y: False\n",
            "x <= y: True\n",
            "\n",
            "\n"
          ]
        }
      ]
    },
    {
      "cell_type": "markdown",
      "source": [
        "# Logical Operators"
      ],
      "metadata": {
        "id": "xwC6O6LufOE2"
      }
    },
    {
      "cell_type": "code",
      "source": [
        "print(\"Logical Operators\")\n",
        "x = True\n",
        "y = False\n",
        "print(\"x and y:\", x and y)\n",
        "print(\"x or y:\", x or y)\n",
        "print(\"not x:\", not x)\n",
        "print(\"\\n\")"
      ],
      "metadata": {
        "colab": {
          "base_uri": "https://localhost:8080/"
        },
        "id": "34JFHBPpfSMJ",
        "outputId": "b05898aa-06cc-47a2-95a1-e001d0988583"
      },
      "execution_count": 4,
      "outputs": [
        {
          "output_type": "stream",
          "name": "stdout",
          "text": [
            "Logical Operators\n",
            "x and y: False\n",
            "x or y: True\n",
            "not x: False\n",
            "\n",
            "\n"
          ]
        }
      ]
    },
    {
      "cell_type": "markdown",
      "source": [
        "# Bitwise Operators"
      ],
      "metadata": {
        "id": "0vXYRrYYfWX4"
      }
    },
    {
      "cell_type": "code",
      "source": [
        "print(\"Bitwise Operators\")\n",
        "a = 5  # 0101 in binary\n",
        "b = 3  # 0011 in binary\n",
        "print(\"a & b (AND):\", a & b)\n",
        "print(\"a | b (OR):\", a | b)\n",
        "print(\"a ^ b (XOR):\", a ^ b)\n",
        "print(\"~a (NOT):\", ~a)\n",
        "print(\"a << 1 (Left Shift):\", a << 1)\n",
        "print(\"a >> 1 (Right Shift):\", a >> 1)\n",
        "print(\"\\n\")"
      ],
      "metadata": {
        "colab": {
          "base_uri": "https://localhost:8080/"
        },
        "id": "7PL6nf4Ifbmn",
        "outputId": "85fb88d7-f9e2-44aa-d0c2-b788365d2eba"
      },
      "execution_count": 5,
      "outputs": [
        {
          "output_type": "stream",
          "name": "stdout",
          "text": [
            "Bitwise Operators\n",
            "a & b (AND): 1\n",
            "a | b (OR): 7\n",
            "a ^ b (XOR): 6\n",
            "~a (NOT): -6\n",
            "a << 1 (Left Shift): 10\n",
            "a >> 1 (Right Shift): 2\n",
            "\n",
            "\n"
          ]
        }
      ]
    },
    {
      "cell_type": "markdown",
      "source": [
        "# Membership Operators"
      ],
      "metadata": {
        "id": "n5J7qOpMf0i4"
      }
    },
    {
      "cell_type": "code",
      "source": [
        "print(\"Membership Operators\")\n",
        "list_example = [1, 2, 3, 4, 5]\n",
        "print(\"3 in list_example:\", 3 in list_example)\n",
        "print(\"10 not in list_example:\", 10 not in list_example)\n",
        "print(\"\\n\")\n"
      ],
      "metadata": {
        "colab": {
          "base_uri": "https://localhost:8080/"
        },
        "id": "qL95PxIDf4b8",
        "outputId": "5bbc816f-de32-42be-cae5-cc914ad8f79a"
      },
      "execution_count": 6,
      "outputs": [
        {
          "output_type": "stream",
          "name": "stdout",
          "text": [
            "Membership Operators\n",
            "3 in list_example: True\n",
            "10 not in list_example: True\n",
            "\n",
            "\n"
          ]
        }
      ]
    },
    {
      "cell_type": "markdown",
      "source": [
        "# Identity Operators"
      ],
      "metadata": {
        "id": "tfCY7opIgFnn"
      }
    },
    {
      "cell_type": "code",
      "execution_count": 8,
      "metadata": {
        "colab": {
          "base_uri": "https://localhost:8080/"
        },
        "id": "bnBwutMueU2K",
        "outputId": "c1a0ba50-fc30-43b1-d223-b3fa54efd62d"
      },
      "outputs": [
        {
          "output_type": "stream",
          "name": "stdout",
          "text": [
            "Identity Operators\n",
            "x is y: True\n",
            "x is z: False\n",
            "x == z: True\n"
          ]
        }
      ],
      "source": [
        "print(\"Identity Operators\")\n",
        "x = [1, 2, 3]\n",
        "y = x\n",
        "z = [1, 2, 3]\n",
        "print(\"x is y:\", x is y)\n",
        "print(\"x is z:\", x is z)\n",
        "print(\"x == z:\", x == z)\n"
      ]
    }
  ]
}