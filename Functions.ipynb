{
  "nbformat": 4,
  "nbformat_minor": 0,
  "metadata": {
    "colab": {
      "provenance": [],
      "authorship_tag": "ABX9TyPrn0ilK3a0Xh84EiPNXFPJ",
      "include_colab_link": true
    },
    "kernelspec": {
      "name": "python3",
      "display_name": "Python 3"
    },
    "language_info": {
      "name": "python"
    }
  },
  "cells": [
    {
      "cell_type": "markdown",
      "metadata": {
        "id": "view-in-github",
        "colab_type": "text"
      },
      "source": [
        "<a href=\"https://colab.research.google.com/github/Ahmed11Raza/learning-python/blob/main/Functions.ipynb\" target=\"_parent\"><img src=\"https://colab.research.google.com/assets/colab-badge.svg\" alt=\"Open In Colab\"/></a>"
      ]
    },
    {
      "cell_type": "markdown",
      "source": [
        "# Functions in Python\n",
        "\n",
        "Functions are reusable blocks of code that perform specific tasks. They help in organizing code, making it more modular, and avoiding redundancy."
      ],
      "metadata": {
        "id": "tTjoUvKB4r2R"
      }
    },
    {
      "cell_type": "markdown",
      "source": [
        "**1. Defining and Calling Functions**\n",
        "\n",
        "To define a function in Python, use the def keyword followed by the function name and parentheses. The function body contains the code to be executed."
      ],
      "metadata": {
        "id": "j7jisNfA4yUN"
      }
    },
    {
      "cell_type": "markdown",
      "source": [
        "SYNTAX:"
      ],
      "metadata": {
        "id": "ozMZ6anu5AKE"
      }
    },
    {
      "cell_type": "code",
      "execution_count": 2,
      "metadata": {
        "id": "O_n_xjTJ4Av3"
      },
      "outputs": [],
      "source": [
        "def function_name():\n",
        "    # Code block\n",
        "    pass"
      ]
    },
    {
      "cell_type": "code",
      "source": [
        "#Example:\n",
        "def greet():\n",
        "    print(\"Hello, World!\")\n",
        "\n",
        "# Calling the function\n",
        "greet()  # Output: Hello, World!"
      ],
      "metadata": {
        "colab": {
          "base_uri": "https://localhost:8080/"
        },
        "id": "Oc56vYEh47Bx",
        "outputId": "8deb8a15-396e-4e6b-d13e-e0e5dcb4112c"
      },
      "execution_count": 4,
      "outputs": [
        {
          "output_type": "stream",
          "name": "stdout",
          "text": [
            "Hello, World!\n"
          ]
        }
      ]
    },
    {
      "cell_type": "markdown",
      "source": [
        "**# 2. Parameters and Arguments**\n",
        "\n",
        "**Parameters:**\n",
        "\n",
        "Parameters are placeholders in a function definition.\n",
        "\n",
        "**Arguments:**\n",
        "\n",
        "Arguments are actual values passed to a function when it is called."
      ],
      "metadata": {
        "id": "AgiEe5Y55N_q"
      }
    },
    {
      "cell_type": "code",
      "source": [
        "#Example:\n",
        "def greet_user(name):\n",
        "    print(f\"Hello, {name}!\")\n",
        "\n",
        "# Calling the function with an argument\n",
        "greet_user(\"Alice\")  # Output: Hello, Alice!"
      ],
      "metadata": {
        "colab": {
          "base_uri": "https://localhost:8080/"
        },
        "id": "PkhL9x5L5Nh6",
        "outputId": "7a998715-ba70-4c36-c833-24c42e42b79e"
      },
      "execution_count": 5,
      "outputs": [
        {
          "output_type": "stream",
          "name": "stdout",
          "text": [
            "Hello, Alice!\n"
          ]
        }
      ]
    },
    {
      "cell_type": "markdown",
      "source": [
        "**Multiple Parameters:**"
      ],
      "metadata": {
        "id": "Z9DBat_V5rkA"
      }
    },
    {
      "cell_type": "code",
      "source": [
        "def add_numbers(a, b):\n",
        "    return a + b\n",
        "\n",
        "result = add_numbers(5, 3)\n",
        "print(result)  # Output: 8"
      ],
      "metadata": {
        "colab": {
          "base_uri": "https://localhost:8080/"
        },
        "id": "nGOMVby-5tf4",
        "outputId": "64ae52ee-5c55-4d77-a9d3-30e08c115508"
      },
      "execution_count": 6,
      "outputs": [
        {
          "output_type": "stream",
          "name": "stdout",
          "text": [
            "8\n"
          ]
        }
      ]
    },
    {
      "cell_type": "markdown",
      "source": [
        "**3. Return Statements**\n",
        "\n",
        "A function can send a value back to the caller using the return statement."
      ],
      "metadata": {
        "id": "MieMQuHY503W"
      }
    },
    {
      "cell_type": "code",
      "source": [
        "#Example\n",
        "def square(number):\n",
        "    return number ** 2\n",
        "\n",
        "result = square(4)\n",
        "print(result)  # Output: 16"
      ],
      "metadata": {
        "colab": {
          "base_uri": "https://localhost:8080/"
        },
        "id": "Vs1JFbJh5vYv",
        "outputId": "1d554969-2a2e-453d-d4c5-bdf09acf3d28"
      },
      "execution_count": 8,
      "outputs": [
        {
          "output_type": "stream",
          "name": "stdout",
          "text": [
            "16\n"
          ]
        }
      ]
    },
    {
      "cell_type": "markdown",
      "source": [
        "**4. Built-in Functions**\n",
        "\n",
        "Python provides several built-in functions for common tasks. Here are a few examples:\n",
        "\n",
        "**len():**\n",
        "\n",
        "Returns the length of an object (e.g., string, list)."
      ],
      "metadata": {
        "id": "yTc6gNlK6rd0"
      }
    },
    {
      "cell_type": "code",
      "source": [
        "names = [\"Alice\", \"Bob\", \"Charlie\"]\n",
        "print(len(names))  # Output: 3"
      ],
      "metadata": {
        "colab": {
          "base_uri": "https://localhost:8080/"
        },
        "id": "jR96eq1C5-e-",
        "outputId": "f3f35b65-b67b-4855-fe8f-e31d40f18804"
      },
      "execution_count": 9,
      "outputs": [
        {
          "output_type": "stream",
          "name": "stdout",
          "text": [
            "3\n"
          ]
        }
      ]
    },
    {
      "cell_type": "markdown",
      "source": [
        "**type():**\n",
        "\n",
        "Returns the type of an object."
      ],
      "metadata": {
        "id": "ozvfngZ562Ir"
      }
    },
    {
      "cell_type": "code",
      "source": [
        "x = 42\n",
        "print(type(x))  # Output: <class 'int'>"
      ],
      "metadata": {
        "colab": {
          "base_uri": "https://localhost:8080/"
        },
        "id": "Lde7QFdT6zIC",
        "outputId": "22f5d902-e1f0-4c55-a128-56824e760a7f"
      },
      "execution_count": 10,
      "outputs": [
        {
          "output_type": "stream",
          "name": "stdout",
          "text": [
            "<class 'int'>\n"
          ]
        }
      ]
    },
    {
      "cell_type": "markdown",
      "source": [
        "**abs():**\n",
        "\n",
        "Returns the absolute value of a number."
      ],
      "metadata": {
        "id": "1KkRbF4B7BkO"
      }
    },
    {
      "cell_type": "code",
      "source": [
        "print(abs(-5))  # Output: 5"
      ],
      "metadata": {
        "colab": {
          "base_uri": "https://localhost:8080/"
        },
        "id": "rsTn2BVn7FOl",
        "outputId": "b5dabf2e-744b-4e7f-fbd0-cfbc2d380000"
      },
      "execution_count": 11,
      "outputs": [
        {
          "output_type": "stream",
          "name": "stdout",
          "text": [
            "5\n"
          ]
        }
      ]
    },
    {
      "cell_type": "markdown",
      "source": [
        "**5. Lambda Functions**\n",
        "\n",
        "Lambda functions are anonymous functions defined using the lambda keyword. They are typically used for short, simple operations."
      ],
      "metadata": {
        "id": "mYNpnmMm7PAw"
      }
    },
    {
      "cell_type": "code",
      "source": [
        "#Syntax:\n",
        "##lambda arguments: expression"
      ],
      "metadata": {
        "id": "UG1MvV4o7Uv6"
      },
      "execution_count": null,
      "outputs": []
    },
    {
      "cell_type": "code",
      "source": [
        "#Example:\n",
        "square = lambda x: x ** 2\n",
        "print(square(5))  # Output: 25"
      ],
      "metadata": {
        "colab": {
          "base_uri": "https://localhost:8080/"
        },
        "id": "5ix4RUb77dkF",
        "outputId": "4a28636a-53a3-44f9-9433-09cf4310a803"
      },
      "execution_count": 12,
      "outputs": [
        {
          "output_type": "stream",
          "name": "stdout",
          "text": [
            "25\n"
          ]
        }
      ]
    },
    {
      "cell_type": "markdown",
      "source": [
        "**Lambda with map:**"
      ],
      "metadata": {
        "id": "8UVOd-pu7qG8"
      }
    },
    {
      "cell_type": "code",
      "source": [
        "numbers = [1, 2, 3, 4]\n",
        "squared_numbers = list(map(lambda x: x ** 2, numbers))\n",
        "print(squared_numbers)  # Output: [1, 4, 9, 16]"
      ],
      "metadata": {
        "colab": {
          "base_uri": "https://localhost:8080/"
        },
        "id": "VUiyy2cW7ugP",
        "outputId": "96e1698e-6ba0-41b1-b342-0719bfa4978e"
      },
      "execution_count": 13,
      "outputs": [
        {
          "output_type": "stream",
          "name": "stdout",
          "text": [
            "[1, 4, 9, 16]\n"
          ]
        }
      ]
    },
    {
      "cell_type": "markdown",
      "source": [
        "**Lambda with filter:**"
      ],
      "metadata": {
        "id": "P6KsAKU07z1S"
      }
    },
    {
      "cell_type": "code",
      "source": [
        "numbers = [1, 2, 3, 4, 5]\n",
        "even_numbers = list(filter(lambda x: x % 2 == 0, numbers))\n",
        "print(even_numbers)  # Output: [2, 4]"
      ],
      "metadata": {
        "colab": {
          "base_uri": "https://localhost:8080/"
        },
        "id": "ua6nLP1f71WX",
        "outputId": "f63d08b5-b04d-4a59-a749-209d7b63dc60"
      },
      "execution_count": 14,
      "outputs": [
        {
          "output_type": "stream",
          "name": "stdout",
          "text": [
            "[2, 4]\n"
          ]
        }
      ]
    }
  ]
}