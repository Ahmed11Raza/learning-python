{
  "nbformat": 4,
  "nbformat_minor": 0,
  "metadata": {
    "colab": {
      "provenance": [],
      "authorship_tag": "ABX9TyM/LyBHkq8z5PQKSCP49QmH",
      "include_colab_link": true
    },
    "kernelspec": {
      "name": "python3",
      "display_name": "Python 3"
    },
    "language_info": {
      "name": "python"
    }
  },
  "cells": [
    {
      "cell_type": "markdown",
      "metadata": {
        "id": "view-in-github",
        "colab_type": "text"
      },
      "source": [
        "<a href=\"https://colab.research.google.com/github/Ahmed11Raza/learning-python/blob/main/Control_Flow(IF_ElSE).ipynb\" target=\"_parent\"><img src=\"https://colab.research.google.com/assets/colab-badge.svg\" alt=\"Open In Colab\"/></a>"
      ]
    },
    {
      "cell_type": "markdown",
      "source": [
        "### Teaching Python Control Flow with Examples\n",
        "\n",
        "# Text Explanation for Students\n",
        "# Understanding Control Flow in Python\n",
        "\n"
      ],
      "metadata": {
        "id": "x55eIWCHhfT2"
      }
    },
    {
      "cell_type": "markdown",
      "source": [
        "Control flow allows us to dictate the order in which code executes. In Python, we use conditional statements, loops, and control keywords to make decisions and repeat tasks. Here are the main concepts:\n",
        "\n",
        "1. **If-Else Statements**: These are used to make decisions based on conditions. The `if` block runs if the condition is true, the `else` block runs otherwise, and `elif` allows us to add multiple conditions.\n",
        "   - Example: Determining if a number is positive, negative, or zero.\n",
        "\n",
        "2. **Nested If**: Sometimes, we need to check conditions within conditions. Nested `if` statements allow us to perform more specific checks based on a prior condition.\n",
        "   - Example: Checking voting eligibility and classifying as adult or senior citizen.\n",
        "\n",
        "3. **Loops**: Loops allow us to repeat tasks efficiently.\n",
        "   - **For Loop**: Ideal for iterating over a sequence of items or a specific range of numbers.\n",
        "     - Example: Printing the multiplication table of 5.\n",
        "   - **While Loop**: Repeats as long as a condition is true.\n",
        "     - Example: Counting numbers from 1 to 5.\n",
        "\n",
        "4. **Control Statements**: These alter the normal flow of loops.\n",
        "   - **Break**: Exits the loop when a condition is met.\n",
        "   - **Continue**: Skips the current iteration and continues with the next.\n",
        "   - **Pass**: A placeholder that does nothing."
      ],
      "metadata": {
        "id": "uaUwlNVxhxlr"
      }
    },
    {
      "cell_type": "markdown",
      "source": [
        "# If-Else Statements\n"
      ],
      "metadata": {
        "id": "acxXdvhTh_kl"
      }
    },
    {
      "cell_type": "code",
      "source": [
        "print(\"If-Else Statements\")\n",
        "number = int(input(\"Enter a number: \"))\n",
        "if number > 0:\n",
        "    print(\"The number is positive.\")\n",
        "elif number == 0:\n",
        "    print(\"The number is zero.\")\n",
        "else:\n",
        "    print(\"The number is negative.\")\n",
        "print(\"\\n\")"
      ],
      "metadata": {
        "colab": {
          "base_uri": "https://localhost:8080/"
        },
        "id": "l2LonhV_iFNF",
        "outputId": "4d3ff4aa-e58d-423a-9a50-b8172face749"
      },
      "execution_count": 2,
      "outputs": [
        {
          "output_type": "stream",
          "name": "stdout",
          "text": [
            "If-Else Statements\n",
            "Enter a number: -2\n",
            "The number is negative.\n",
            "\n",
            "\n"
          ]
        }
      ]
    },
    {
      "cell_type": "markdown",
      "source": [
        "# Nested If"
      ],
      "metadata": {
        "id": "jowrsQn1iM0b"
      }
    },
    {
      "cell_type": "code",
      "source": [
        "print(\"Nested If\")\n",
        "age = int(input(\"Enter your age: \"))\n",
        "if age >= 18:\n",
        "    print(\"You are eligible to vote.\")\n",
        "    if age >= 60:\n",
        "        print(\"You are a senior citizen.\")\n",
        "    else:\n",
        "        print(\"You are an adult.\")\n",
        "else:\n",
        "    print(\"You are not eligible to vote yet.\")\n",
        "print(\"\\n\")"
      ],
      "metadata": {
        "colab": {
          "base_uri": "https://localhost:8080/"
        },
        "id": "hltu1ACciQW0",
        "outputId": "7393ec9e-c2e5-4d65-b270-7d704c153f72"
      },
      "execution_count": 4,
      "outputs": [
        {
          "output_type": "stream",
          "name": "stdout",
          "text": [
            "Nested If\n",
            "Enter your age: 21\n",
            "You are eligible to vote.\n",
            "You are an adult.\n",
            "\n",
            "\n"
          ]
        }
      ]
    },
    {
      "cell_type": "markdown",
      "source": [
        "# For Loop"
      ],
      "metadata": {
        "id": "yEjWhW8nmdPv"
      }
    },
    {
      "cell_type": "code",
      "source": [
        "print(\"For Loop\")\n",
        "print(\"Multiplication Table of 5:\")\n",
        "for i in range(1, 11):\n",
        "    print(f\"5 x {i} = {5 * i}\")\n",
        "print(\"\\n\")"
      ],
      "metadata": {
        "colab": {
          "base_uri": "https://localhost:8080/"
        },
        "id": "ZKnHK8Vcmgxt",
        "outputId": "e377ed5e-b586-4889-e9e4-0a1bfcb9d89c"
      },
      "execution_count": 5,
      "outputs": [
        {
          "output_type": "stream",
          "name": "stdout",
          "text": [
            "For Loop\n",
            "Multiplication Table of 5:\n",
            "5 x 1 = 5\n",
            "5 x 2 = 10\n",
            "5 x 3 = 15\n",
            "5 x 4 = 20\n",
            "5 x 5 = 25\n",
            "5 x 6 = 30\n",
            "5 x 7 = 35\n",
            "5 x 8 = 40\n",
            "5 x 9 = 45\n",
            "5 x 10 = 50\n",
            "\n",
            "\n"
          ]
        }
      ]
    },
    {
      "cell_type": "markdown",
      "source": [
        "# While Loop"
      ],
      "metadata": {
        "id": "slzA-2LMmkeV"
      }
    },
    {
      "cell_type": "code",
      "source": [
        "print(\"While Loop\")\n",
        "number = 1\n",
        "print(\"Counting from 1 to 5:\")\n",
        "while number <= 5:\n",
        "    print(number)\n",
        "    number += 1\n",
        "print(\"\\n\")"
      ],
      "metadata": {
        "colab": {
          "base_uri": "https://localhost:8080/"
        },
        "id": "ZLAEhAgmmkNW",
        "outputId": "ffd80892-5442-4eaf-c1c8-018dae55aca1"
      },
      "execution_count": 6,
      "outputs": [
        {
          "output_type": "stream",
          "name": "stdout",
          "text": [
            "While Loop\n",
            "Counting from 1 to 5:\n",
            "1\n",
            "2\n",
            "3\n",
            "4\n",
            "5\n",
            "\n",
            "\n"
          ]
        }
      ]
    },
    {
      "cell_type": "markdown",
      "source": [
        "\n",
        "# Break, Continue, and Pass Statements"
      ],
      "metadata": {
        "id": "nqOk2or-mqtq"
      }
    },
    {
      "cell_type": "code",
      "source": [
        "print(\"Break, Continue, and Pass Statements\")\n",
        "# Break Example\n",
        "print(\"Break Example: Stopping loop at 3\")\n",
        "for i in range(1, 6):\n",
        "    if i == 3:\n",
        "        break\n",
        "    print(i)"
      ],
      "metadata": {
        "colab": {
          "base_uri": "https://localhost:8080/"
        },
        "id": "VabXAQFkmuEf",
        "outputId": "a77d644e-4442-4e7e-d8d8-344c08265387"
      },
      "execution_count": 7,
      "outputs": [
        {
          "output_type": "stream",
          "name": "stdout",
          "text": [
            "Break, Continue, and Pass Statements\n",
            "Break Example: Stopping loop at 3\n",
            "1\n",
            "2\n"
          ]
        }
      ]
    },
    {
      "cell_type": "markdown",
      "source": [
        "# Continue Example"
      ],
      "metadata": {
        "id": "8N6y0UcimxKC"
      }
    },
    {
      "cell_type": "code",
      "source": [
        "print(\"\\nContinue Example: Skipping 3\")\n",
        "for i in range(1, 6):\n",
        "    if i == 3:\n",
        "        continue\n",
        "    print(i)\n"
      ],
      "metadata": {
        "colab": {
          "base_uri": "https://localhost:8080/"
        },
        "id": "VO8WGMmqmzNK",
        "outputId": "b6da1c8e-d98e-4e53-80a1-819706edde24"
      },
      "execution_count": 8,
      "outputs": [
        {
          "output_type": "stream",
          "name": "stdout",
          "text": [
            "\n",
            "Continue Example: Skipping 3\n",
            "1\n",
            "2\n",
            "4\n",
            "5\n"
          ]
        }
      ]
    },
    {
      "cell_type": "markdown",
      "source": [
        "# Pass Example"
      ],
      "metadata": {
        "id": "PbcE10Ham2C9"
      }
    },
    {
      "cell_type": "code",
      "source": [
        "for i in range(1, 6):\n",
        "    if i == 3:\n",
        "        pass\n",
        "    print(i)"
      ],
      "metadata": {
        "colab": {
          "base_uri": "https://localhost:8080/"
        },
        "id": "dUlh3OmVm46c",
        "outputId": "2e48330d-3583-47ed-fcee-76f46cb1525c"
      },
      "execution_count": 10,
      "outputs": [
        {
          "output_type": "stream",
          "name": "stdout",
          "text": [
            "1\n",
            "2\n",
            "3\n",
            "4\n",
            "5\n"
          ]
        }
      ]
    },
    {
      "cell_type": "markdown",
      "source": [
        "# Building Logic Practice"
      ],
      "metadata": {
        "id": "1PLZyLZSnLta"
      }
    },
    {
      "cell_type": "code",
      "source": [
        "# Example 1: Even or Odd\n",
        "number = int(input(\"Enter a number: \"))\n",
        "if number % 2 == 0:\n",
        "    print(\"The number is even.\")\n",
        "else:\n",
        "    print(\"The number is odd.\")"
      ],
      "metadata": {
        "colab": {
          "base_uri": "https://localhost:8080/"
        },
        "id": "Kb_85X0ZnsIK",
        "outputId": "5a4886c9-1c3c-4add-ad1b-109a1622c4bd"
      },
      "execution_count": 12,
      "outputs": [
        {
          "output_type": "stream",
          "name": "stdout",
          "text": [
            "Enter a number: 12\n",
            "The number is even.\n"
          ]
        }
      ]
    },
    {
      "cell_type": "code",
      "execution_count": 11,
      "metadata": {
        "id": "NYq1eUDMhK70",
        "colab": {
          "base_uri": "https://localhost:8080/"
        },
        "outputId": "a9752ada-803e-4fad-985e-1f00ae888d9e"
      },
      "outputs": [
        {
          "output_type": "stream",
          "name": "stdout",
          "text": [
            "\n",
            "Logic Practice 2: Sum of First N Numbers\n",
            "Enter a number: 12\n",
            "The sum of first 12 numbers is 78.\n"
          ]
        }
      ],
      "source": [
        "# Example 2: Sum of First N Numbers\n",
        "print(\"\\nLogic Practice 2: Sum of First N Numbers\")\n",
        "n = int(input(\"Enter a number: \"))\n",
        "sum_n = 0\n",
        "for i in range(1, n + 1):\n",
        "    sum_n += i\n",
        "print(f\"The sum of first {n} numbers is {sum_n}.\")\n"
      ]
    },
    {
      "cell_type": "markdown",
      "source": [
        "### Interactive Questions for Students\n",
        "# Text for Interaction\n",
        "print(\"Now, let’s apply what you’ve learned!\")\n",
        "\n",
        "\n",
        "print(\"\\nQuestion 1: Write a program to find whether a number is divisible by both 3 and 5.\")\n",
        "\n",
        "\n",
        "print(\"Hint: Use the modulus operator (%) to check divisibility.\")\n",
        "\n",
        "\n",
        "print(\"\\nQuestion 2: Create a loop that prints all even numbers from 1 to 20.\")\n",
        "\n",
        "print(\"Hint: Use a for loop with an if condition to check even numbers.\")\n",
        "\n",
        "\n",
        "print(\"\\nQuestion 3: Write a program to calculate the factorial of a given number using a while loop.\")\n",
        "\n",
        "print(\"Hint: Use multiplication in a loop to find the factorial.\")"
      ],
      "metadata": {
        "id": "HVTYI15hnkZP"
      }
    }
  ]
}