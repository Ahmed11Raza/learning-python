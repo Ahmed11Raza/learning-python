{
  "nbformat": 4,
  "nbformat_minor": 0,
  "metadata": {
    "colab": {
      "provenance": [],
      "authorship_tag": "ABX9TyM+n6R31+hBchMuea0cZrgf",
      "include_colab_link": true
    },
    "kernelspec": {
      "name": "python3",
      "display_name": "Python 3"
    },
    "language_info": {
      "name": "python"
    }
  },
  "cells": [
    {
      "cell_type": "markdown",
      "metadata": {
        "id": "view-in-github",
        "colab_type": "text"
      },
      "source": [
        "<a href=\"https://colab.research.google.com/github/Ahmed11Raza/learning-python/blob/main/OOPS.ipynb\" target=\"_parent\"><img src=\"https://colab.research.google.com/assets/colab-badge.svg\" alt=\"Open In Colab\"/></a>"
      ]
    },
    {
      "cell_type": "markdown",
      "source": [
        "# Object-Oriented Programming (OOP)\n",
        "\n",
        "Object-Oriented Programming (OOP) is a programming paradigm based on the concept of \"objects\", which can contain data and code: data in the form of fields (often known as attributes or properties), and code, in the form of procedures (often known as methods).\n",
        "\n"
      ],
      "metadata": {
        "id": "KkdDUzo4EJoQ"
      }
    },
    {
      "cell_type": "markdown",
      "source": [
        "# 1. Classes aur Objects\n",
        "\n",
        "**Class:** Class ek blueprint hai jo objects create karne ke liye use hoti hai. Is mein attributes (variables) aur methods (functions) define kiye jaate hain.\n",
        "\n",
        "**Object:** Object ek instance hai class ka, jo memory mein allocate hota hai aur class ke properties aur methods ka use karta hai."
      ],
      "metadata": {
        "id": "xPZtGh4lEmxQ"
      }
    },
    {
      "cell_type": "code",
      "execution_count": 1,
      "metadata": {
        "colab": {
          "base_uri": "https://localhost:8080/"
        },
        "id": "FDpTRSZCD1iM",
        "outputId": "32a3add3-5014-4a64-8648-e2282ef2b191"
      },
      "outputs": [
        {
          "output_type": "stream",
          "name": "stdout",
          "text": [
            "Car Brand: Toyota, Model: Corolla\n",
            "Car Brand: Honda, Model: Civic\n"
          ]
        }
      ],
      "source": [
        "# Class definition\n",
        "class Car:\n",
        "    # Constructor method\n",
        "    def __init__(self, brand, model):\n",
        "        self.brand = brand\n",
        "        self.model = model\n",
        "\n",
        "    # Method to display car details\n",
        "    def display_details(self):\n",
        "        print(f\"Car Brand: {self.brand}, Model: {self.model}\")\n",
        "\n",
        "# Object creation\n",
        "car1 = Car(\"Toyota\", \"Corolla\")\n",
        "car2 = Car(\"Honda\", \"Civic\")\n",
        "\n",
        "# Accessing object methods\n",
        "car1.display_details()\n",
        "car2.display_details()\n"
      ]
    },
    {
      "cell_type": "markdown",
      "source": [
        "# 2. Methods\n",
        "Methods ek function hai jo kisi class ke andar define hota hai.\n",
        "\n",
        "Do tarah ke methods hote hain:\n",
        "\n",
        "  >**Instance Method**: Jo instance variables ko access karte hain.\n",
        "\n",
        "  >**Class Method / Static Method**: Jo class-wide logic ke liye use hote hain."
      ],
      "metadata": {
        "id": "LXjhsWXOE6bU"
      }
    },
    {
      "cell_type": "code",
      "source": [
        "class Circle:\n",
        "    pi = 3.14159  # Class variable\n",
        "\n",
        "    def __init__(self, radius):\n",
        "        self.radius = radius  # Instance variable\n",
        "\n",
        "    def area(self):  # Instance method\n",
        "        return Circle.pi * (self.radius ** 2)\n",
        "\n",
        "    @staticmethod\n",
        "    def describe():  # Static method\n",
        "        print(\"This is a Circle class!\")\n",
        "\n",
        "# Using the class\n",
        "circle1 = Circle(5)\n",
        "print(\"Area:\", circle1.area())\n",
        "Circle.describe()\n"
      ],
      "metadata": {
        "colab": {
          "base_uri": "https://localhost:8080/"
        },
        "id": "Cmt2em-vEzZx",
        "outputId": "aa74b975-c6d4-4e35-e55a-a56da80bdd90"
      },
      "execution_count": 2,
      "outputs": [
        {
          "output_type": "stream",
          "name": "stdout",
          "text": [
            "Area: 78.53975\n",
            "This is a Circle class!\n"
          ]
        }
      ]
    },
    {
      "cell_type": "markdown",
      "source": [
        "# 3) Inheritance\n",
        "Inheritance is a mechanism that allows one class to inherit the properties and methods of another class.\n",
        "\n",
        "**Parent (Base) Class**: The class from which inheritance occurs.\n",
        "\n",
        "**Child (Derived) Class**: The class that inherits."
      ],
      "metadata": {
        "id": "cIbZF5VQFe-D"
      }
    },
    {
      "cell_type": "code",
      "source": [
        "# Parent class\n",
        "class Animal:\n",
        "    def __init__(self, name):\n",
        "        self.name = name\n",
        "\n",
        "    def speak(self):\n",
        "        print(f\"{self.name} makes a sound.\")\n",
        "\n",
        "# Child class\n",
        "class Dog(Animal):\n",
        "    def speak(self):\n",
        "        print(f\"{self.name} says Woof!\")\n",
        "\n",
        "# Using the classes\n",
        "dog = Dog(\"Buddy\")\n",
        "dog.speak()\n"
      ],
      "metadata": {
        "colab": {
          "base_uri": "https://localhost:8080/"
        },
        "id": "Q9zrWHmpFUX_",
        "outputId": "c7ecd670-e527-45cb-db14-fd34463ca531"
      },
      "execution_count": 3,
      "outputs": [
        {
          "output_type": "stream",
          "name": "stdout",
          "text": [
            "Buddy says Woof!\n"
          ]
        }
      ]
    },
    {
      "cell_type": "markdown",
      "source": [
        "# 4) Polymorphism\n",
        "Polymorphism means the same method having different behaviors depending on the context. This is achieved through overriding and overloading."
      ],
      "metadata": {
        "id": "y-KNhlB-F7TC"
      }
    },
    {
      "cell_type": "code",
      "source": [
        "class Bird:\n",
        "    def fly(self):\n",
        "        print(\"Some birds can fly.\")\n",
        "\n",
        "class Sparrow(Bird):\n",
        "    def fly(self):\n",
        "        print(\"Sparrows can fly.\")\n",
        "\n",
        "class Ostrich(Bird):\n",
        "    def fly(self):\n",
        "        print(\"Ostriches cannot fly.\")\n",
        "\n",
        "# Using polymorphism\n",
        "birds = [Bird(), Sparrow(), Ostrich()]\n",
        "for bird in birds:\n",
        "    bird.fly()\n"
      ],
      "metadata": {
        "colab": {
          "base_uri": "https://localhost:8080/"
        },
        "id": "Y-EycUrWFxAb",
        "outputId": "e5b3e446-05cb-4254-a8c8-5004e4030a68"
      },
      "execution_count": 4,
      "outputs": [
        {
          "output_type": "stream",
          "name": "stdout",
          "text": [
            "Some birds can fly.\n",
            "Sparrows can fly.\n",
            "Ostriches cannot fly.\n"
          ]
        }
      ]
    },
    {
      "cell_type": "markdown",
      "source": [
        "# Encapsulation and Abstraction\n",
        "\n",
        "**Encapsulation:**\n",
        "Encapsulation means hiding data and methods together within a class and restricting access to them. This is achieved through private variables.\n",
        "\n",
        "**Abstraction:**\n",
        "Abstraction means hiding unnecessary details and exposing only the relevant information."
      ],
      "metadata": {
        "id": "l-gC_JaAGOfy"
      }
    },
    {
      "cell_type": "code",
      "source": [
        "class BankAccount:\n",
        "    def __init__(self, account_number, balance):\n",
        "        self.account_number = account_number\n",
        "        self.__balance = balance  # Private variable\n",
        "\n",
        "    def deposit(self, amount):\n",
        "        self.__balance += amount\n",
        "\n",
        "    def get_balance(self):\n",
        "        return self.__balance\n",
        "\n",
        "# Using the class\n",
        "account = BankAccount(\"123456\", 1000)\n",
        "account.deposit(500)\n",
        "print(\"Balance:\", account.get_balance())\n",
        "# print(account.__balance)  # This will raise an error\n"
      ],
      "metadata": {
        "colab": {
          "base_uri": "https://localhost:8080/"
        },
        "id": "L9qXwYSzGBjU",
        "outputId": "b1a0c6ed-c913-49fd-dbad-fb2fdb76c6e2"
      },
      "execution_count": 5,
      "outputs": [
        {
          "output_type": "stream",
          "name": "stdout",
          "text": [
            "Balance: 1500\n"
          ]
        }
      ]
    },
    {
      "cell_type": "code",
      "source": [
        "from abc import ABC, abstractmethod\n",
        "\n",
        "class Shape(ABC):\n",
        "    @abstractmethod\n",
        "    def area(self):\n",
        "        pass\n",
        "\n",
        "class Rectangle(Shape):\n",
        "    def __init__(self, width, height):\n",
        "        self.width = width\n",
        "        self.height = height\n",
        "\n",
        "    def area(self):\n",
        "        return self.width * self.height\n",
        "\n",
        "# Using abstraction\n",
        "rect = Rectangle(10, 5)\n",
        "print(\"Area of Rectangle:\", rect.area())\n"
      ],
      "metadata": {
        "colab": {
          "base_uri": "https://localhost:8080/"
        },
        "id": "LwTt7GtRGcJd",
        "outputId": "c417d508-419a-49ed-bc7e-b7ca8c6c9b30"
      },
      "execution_count": 6,
      "outputs": [
        {
          "output_type": "stream",
          "name": "stdout",
          "text": [
            "Area of Rectangle: 50\n"
          ]
        }
      ]
    }
  ]
}